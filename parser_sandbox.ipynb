{
 "cells": [
  {
   "cell_type": "code",
   "execution_count": 2,
   "metadata": {},
   "outputs": [
    {
     "name": "stdout",
     "output_type": "stream",
     "text": [
      "hello, world\n"
     ]
    }
   ],
   "source": [
    "print(\"hello, world\")"
   ]
  },
  {
   "cell_type": "code",
   "execution_count": 23,
   "metadata": {},
   "outputs": [],
   "source": [
    "with open('workout.txt', 'r') as file:\n",
    "    data = file.read()\n",
    "\n",
    "workouts = data.split('\\n\\n')\n",
    "\n",
    "for workout in workouts:\n",
    "    if '\\n' not in workout:\n",
    "        workouts.remove(workout)\n"
   ]
  },
  {
   "cell_type": "code",
   "execution_count": 43,
   "metadata": {},
   "outputs": [],
   "source": [
    "class Workout:\n",
    "    def __init__(self, exercises, date):\n",
    "        self.exercises = exercises\n",
    "        self.date = date\n",
    "\n",
    "class Exercise:\n",
    "    def __init__(self, name, sets):\n",
    "        self.name = name\n",
    "        self.sets = sets\n",
    "\n",
    "class Set:\n",
    "    def __init__(self, reps, weight):\n",
    "        self.reps = reps\n",
    "        self.weight = weight"
   ]
  },
  {
   "cell_type": "code",
   "execution_count": 51,
   "metadata": {},
   "outputs": [],
   "source": [
    "def has_digit(string):\n",
    "    for char in string:\n",
    "        if char.isdigit():\n",
    "            return True\n",
    "    return False\n",
    "\n",
    "def get_set(string):\n",
    "    print('getting set from: ' + string)\n",
    "    string = string.replace(',', '')\n",
    "    set = string.split('x')\n",
    "    if len(set) == 1:\n",
    "        set.append('0')\n",
    "    if '.' in set[1]:\n",
    "        return Set(int(set[0]), float(set[1]))\n",
    "    else: \n",
    "        return Set(int(set[0]), int(set[1]))"
   ]
  },
  {
   "cell_type": "code",
   "execution_count": 52,
   "metadata": {},
   "outputs": [
    {
     "name": "stdout",
     "output_type": "stream",
     "text": [
      "getting set from: 10x20,\n",
      "getting set from: 10x40,\n",
      "getting set from: 10x45,\n",
      "getting set from: 8x50,\n",
      "getting set from: 8x40\n",
      "getting set from: 10x69,\n",
      "getting set from: 10x101,\n",
      "getting set from: 10x133,\n",
      "getting set from: 8x149,\n",
      "getting set from: 8x141\n",
      "getting set from: 2x2\n",
      "found date\n",
      "getting set from: 2\n",
      "getting set from: 12x50,\n",
      "getting set from: 10x70,\n",
      "getting set from: 8x90,\n",
      "getting set from: 8x90,\n",
      "getting set from: 8x80\n",
      "getting set from: 15x30,\n",
      "getting set from: 8x50,\n",
      "getting set from: 8x55,\n",
      "getting set from: 8x55,\n",
      "getting set from: 6x60,\n",
      "getting set from: 6x45,\n",
      "getting set from: 8x30\n",
      "getting set from: 8x30,\n",
      "getting set from: 8x30,\n",
      "getting set from: 6x30,\n",
      "getting set from: 8x25\n",
      "getting set from: 15x20,\n",
      "getting set from: 10x40,\n",
      "getting set from: 8x50,\n",
      "getting set from: 3x55,\n",
      "getting set from: 10x45\n",
      "getting set from: 8x14,\n",
      "getting set from: 8x14,\n",
      "getting set from: 5x16,\n",
      "getting set from: 5x16\n",
      "getting set from: 10x25,\n",
      "getting set from: 8x30,\n",
      "getting set from: 8x35\n",
      "getting set from: 8x10,\n",
      "getting set from: 8x12.5,\n",
      "getting set from: 8x12.5,\n",
      "getting set from: 10x10\n",
      "getting set from: 10x15,\n",
      "getting set from: 8x17.5,\n",
      "getting set from: 8x17.5,\n",
      "getting set from: 6x20\n",
      "getting set from: 10x5,\n",
      "getting set from: 8x10,\n",
      "getting set from: 8x15\n",
      "getting set from: 10x35,\n",
      "getting set from: 8x40,\n",
      "getting set from: 8x35\n",
      "getting set from: 10x10,\n",
      "getting set from: 8x12.5,\n",
      "getting set from: 8x12.5\n",
      "getting set from: 8x15,\n",
      "getting set from: 8x15,\n",
      "getting set from: 8x12.5\n",
      "getting set from: 12x30,\n",
      "getting set from: 10x35,\n",
      "getting set from: 10x40,\n",
      "getting set from: 8x40\n",
      "getting set from: 8x10,\n",
      "getting set from: 5x12\n",
      "getting set from: 8x10,\n",
      "getting set from: 5x12\n",
      "found date\n",
      "getting set from: 8x25,\n",
      "getting set from: 8x20,\n",
      "getting set from: 8x20\n",
      "getting set from: 12x20,\n",
      "getting set from: 8x40,\n",
      "getting set from: 8x50,\n",
      "getting set from: 8x40,\n",
      "getting set from: 8x30\n",
      "getting set from: 8x12,\n",
      "getting set from: 8x14,\n",
      "getting set from: 8x14\n",
      "getting set from: 10x109,\n",
      "getting set from: 8x133,\n",
      "getting set from: 8x141\n",
      "getting set from: 10x25,\n",
      "getting set from: 8x30,\n",
      "getting set from: 8x35\n",
      "getting set from: 1/3\n"
     ]
    },
    {
     "ename": "ValueError",
     "evalue": "invalid literal for int() with base 10: '1/3'",
     "output_type": "error",
     "traceback": [
      "\u001b[0;31m---------------------------------------------------------------------------\u001b[0m",
      "\u001b[0;31mValueError\u001b[0m                                Traceback (most recent call last)",
      "Cell \u001b[0;32mIn[52], line 26\u001b[0m\n\u001b[1;32m     24\u001b[0m                     sets\u001b[38;5;241m.\u001b[39mappend(Set(\u001b[38;5;28mstr\u001b[39m[\u001b[38;5;241m1\u001b[39m], \u001b[38;5;28mstr\u001b[39m[\u001b[38;5;241m2\u001b[39m]))\n\u001b[1;32m     25\u001b[0m             \u001b[38;5;28;01melse\u001b[39;00m:\n\u001b[0;32m---> 26\u001b[0m                 sets\u001b[38;5;241m.\u001b[39mappend(\u001b[43mget_set\u001b[49m\u001b[43m(\u001b[49m\u001b[38;5;28;43mstr\u001b[39;49m\u001b[43m)\u001b[49m)\n\u001b[1;32m     27\u001b[0m     exercise_list\u001b[38;5;241m.\u001b[39mappend(Exercise(name, sets))\n\u001b[1;32m     28\u001b[0m workout_list\u001b[38;5;241m.\u001b[39mappend(Workout(exercise_list, \u001b[38;5;124m'\u001b[39m\u001b[38;5;124mdate\u001b[39m\u001b[38;5;124m'\u001b[39m))\n",
      "Cell \u001b[0;32mIn[51], line 16\u001b[0m, in \u001b[0;36mget_set\u001b[0;34m(string)\u001b[0m\n\u001b[1;32m     14\u001b[0m     \u001b[38;5;28;01mreturn\u001b[39;00m Set(\u001b[38;5;28mint\u001b[39m(\u001b[38;5;28mset\u001b[39m[\u001b[38;5;241m0\u001b[39m]), \u001b[38;5;28mfloat\u001b[39m(\u001b[38;5;28mset\u001b[39m[\u001b[38;5;241m1\u001b[39m]))\n\u001b[1;32m     15\u001b[0m \u001b[38;5;28;01melse\u001b[39;00m: \n\u001b[0;32m---> 16\u001b[0m     \u001b[38;5;28;01mreturn\u001b[39;00m Set(\u001b[38;5;28;43mint\u001b[39;49m\u001b[43m(\u001b[49m\u001b[38;5;28;43mset\u001b[39;49m\u001b[43m[\u001b[49m\u001b[38;5;241;43m0\u001b[39;49m\u001b[43m]\u001b[49m\u001b[43m)\u001b[49m, \u001b[38;5;28mint\u001b[39m(\u001b[38;5;28mset\u001b[39m[\u001b[38;5;241m1\u001b[39m]))\n",
      "\u001b[0;31mValueError\u001b[0m: invalid literal for int() with base 10: '1/3'"
     ]
    }
   ],
   "source": [
    "workout_list_pre = []\n",
    "\n",
    "for workout in workouts:\n",
    "    exercises = workout.split('\\n')\n",
    "    workout_list_pre.append(exercises)\n",
    "\n",
    "workout_list = []\n",
    "\n",
    "for workout in workout_list_pre:\n",
    "    exercise_list = []\n",
    "    for exercise in workout:\n",
    "        name = ''\n",
    "        sets = []\n",
    "        for str in exercise.split(' '):\n",
    "            if len(str) == 1:\n",
    "                print('found date')\n",
    "            if not has_digit(str):\n",
    "                name += str + ' '\n",
    "            if has_digit(str):\n",
    "                if '(' in str:\n",
    "                    str.replace('(', '')\n",
    "                    str.split('x')\n",
    "                    for i in range(int(str[0])):\n",
    "                        sets.append(Set(str[1], str[2]))\n",
    "                else:\n",
    "                    sets.append(get_set(str))\n",
    "        exercise_list.append(Exercise(name, sets))\n",
    "    workout_list.append(Workout(exercise_list, 'date'))\n",
    "\n"
   ]
  },
  {
   "cell_type": "code",
   "execution_count": null,
   "metadata": {},
   "outputs": [],
   "source": []
  }
 ],
 "metadata": {
  "kernelspec": {
   "display_name": "Training-data-extraction",
   "language": "python",
   "name": "python3"
  },
  "language_info": {
   "codemirror_mode": {
    "name": "ipython",
    "version": 3
   },
   "file_extension": ".py",
   "mimetype": "text/x-python",
   "name": "python",
   "nbconvert_exporter": "python",
   "pygments_lexer": "ipython3",
   "version": "3.12.3"
  }
 },
 "nbformat": 4,
 "nbformat_minor": 2
}
