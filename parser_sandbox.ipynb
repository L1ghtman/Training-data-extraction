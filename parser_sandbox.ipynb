{
 "cells": [
  {
   "cell_type": "markdown",
   "metadata": {},
   "source": [
    "### Dictornary containing look up guide for exercise names"
   ]
  },
  {
   "cell_type": "code",
   "execution_count": 26,
   "metadata": {},
   "outputs": [],
   "source": [
    "Exercise_dict = {\n",
    "    'Bench Press': 'Barbell Bench Press',\n",
    "    'Benchpress': 'Barbell Bench Press',\n",
    "    'Benches press': 'Barbell Bench Press',\n",
    "\n",
    "    'Dumbbell Bench Press': 'Dumbbell Bench Press',\n",
    "    'Kurzhantel bench press': 'Dumbbell Bench Press',\n",
    "\n",
    "    'Dumbbell Incline Bench Press': 'Dumbbell Incline Bench Press',\n",
    "    'Incline bench press': 'Dumbbell Incline Bench Press',\n",
    "    'Incline dumbbell bench press': 'Dumbbell Incline Bench Press',\n",
    "\n",
    "    'Kabelturm butterfly unten': 'Cable Standing Fly Low to High',\n",
    "    'butterfly kabelturm unten': 'Cable Standing Fly Low to High',\n",
    "    'kabelzug unten': 'Cable Standing Fly Low to High',\n",
    "    'Kabelzug butterfly unten': 'Cable Standing Fly Low to High',\n",
    "    'Cable fly low to high': 'Cable Standing Fly Low to High',\n",
    "\n",
    "    'Kabelturm butterfly oben': 'Cable Standing Fly High to Low',\n",
    "    'butterfly kabelturm oben': 'Cable Standing Fly High to Low',\n",
    "    'kabelzug oben': 'Cable Standing Fly High to Low',\n",
    "    'Kabelzug butterfly oben': 'Cable Standing Fly High to Low',\n",
    "    'Butterlfy kabelturm oben': 'Cable Standing Fly High to Low',\n",
    "    'Cable fly high to low': 'Cable Standing Fly High to Low',\n",
    "\n",
    "    'Butterfly machine': 'Lever Seated Fly',\n",
    "    'Butterlfy machine': 'Lever Seated Fly',\n",
    "    'Butterfly': 'Lever Seated Fly',\n",
    "\n",
    "    'Leg press': 'Leg Press',\n",
    "\n",
    "    'Squat': 'Barbell Squat',\n",
    "\n",
    "    'Split squat': 'Dumbbell Split Squat',\n",
    "\n",
    "    'Folter maschine': 'Lever Incline Fly',\n",
    "    'Foltermaschine': 'Lever Incline Fly',\n",
    "\n",
    "    'Military press': 'Military Press',\n",
    "\n",
    "    'Dumbbell Overhead Press': 'Dumbbell Shoulder Press',\n",
    "    'overhead dumbbell press': 'Dumbbell Shoulder Press',\n",
    "    'Dumbbell overhead press': 'Dumbbell Shoulder Press',\n",
    "    'Overhead press dumbbell': 'Dumbbell Shoulder Press',\n",
    "    'Dumbbell shoulder press': 'Dumbbell Shoulder Press',\n",
    "\n",
    "    'Single arm cable lateral raise': 'Cable One Arm Lateral Raise',\n",
    "    'Einarmig seitheben': 'Cable One Arm Lateral Raise',\n",
    "\n",
    "    'Kabelturm seitheben': 'Cable Lateral Raise',\n",
    "    'Kabel seitheben überkreuzt': 'Cable Lateral Raise',\n",
    "    'Cable lateral raise': 'Cable Lateral Raise',\n",
    "\n",
    "    'Machine overhead press': 'Lever Shoulder Press',\n",
    "    'Overhead press machine': 'Lever Shoulder Press',\n",
    "    'Overhead press': 'Lever Shoulder Press',\n",
    "    'Shoulder press machine': 'Lever Shoulder Press',\n",
    "\n",
    "    'Dumbbell seitheben': 'Dumbbell Lateral Raise',\n",
    "    'Seitheben': 'Dumbbell Lateral Raise',\n",
    "\n",
    "    'Skullcrusher': 'Skullcrusher',\n",
    "    'Skull crusher': 'Skullcrusher',\n",
    "\n",
    "    'Kabel kickback': 'Cable One Arm Kickback',\n",
    "    'Kabelturm kickback': 'Cable One Arm Kickback',\n",
    "    'Kabelzug kick back': 'Cable One Arm Kickback',\n",
    "    'Kabelturm kickbacks': 'Cable One Arm Kickback',\n",
    "\n",
    "    'Kabelzug pull down': 'Cable Pushdown',\n",
    "    'Kabelturm pull down': 'Cable Pushdown',\n",
    "    'Kabelturm pulldown': 'Cable Pushdown',\n",
    "\n",
    "    'Kabelturm overhead': 'Cable Bent-over Triceps Extension',\n",
    "\n",
    "    'Seated incline curls': 'Dumbbell Incline Curl',\n",
    "    'Bicep incline bench curls': 'Dumbbell Incline Curl',\n",
    "    'Incline seated curl': 'Dumbbell Incline Curl',\n",
    "    'Bicep incline bench curl': 'Dumbbell Incline Curl',\n",
    "    'Incline biceps curl': 'Dumbbell Incline Curl',\n",
    "\n",
    "    'Preacher curls': 'Preacher Curl',\n",
    "    'Preacher curl machine': 'Preacher Curl',\n",
    "\n",
    "    'Single arm preacher curls': 'Dumbbell Preacher Curl',\n",
    "    'Single arm preacher curl': 'Dumbbell Preacher Curl',\n",
    "\n",
    "    'Pull ups': 'Pull Up',\n",
    "    'Klimmzug': 'Pull Up',\n",
    "    'Pull up': 'Pull Up',\n",
    "\n",
    "    'Band assisted pull up': 'Band Assisted Pull Up',\n",
    "\n",
    "    'Pullover': 'Lever Pullover',\n",
    "    'Pull over machine': 'Lever Pullover',\n",
    "    'Pullover machine': 'Lever Pullover',\n",
    "    'Überzugmaschine': 'Lever Pullover',\n",
    "\n",
    "    'Negative pull up': 'Negative Pull Ups',\n",
    "    'Negative pull ups': 'Negative Pull Ups',\n",
    "    'Negativ klimmzug': 'Negative Pull Ups', \n",
    "    'negative Pull up': 'Negative Pull Ups',\n",
    "    'negative pull up': 'Negative Pull Ups',\n",
    "\n",
    "    'Deadlifts': 'Deadlift',\n",
    "    'Dead lift': 'Deadlift',\n",
    "    'Deadlift': 'Deadlift',\n",
    "\n",
    "    'Lat pull down': 'Cable Pulldown',\n",
    "    'latzug': 'Cable Pulldown',\n",
    "    'Lat pulldown': 'Cable Pulldown',\n",
    "\n",
    "    'Rudern kabelturm breiter griff': 'Cable Wide Grip Seated Row',\n",
    "    'Cable row wide grip': 'Cable Wide Grip Seated Row',\n",
    "    'Kabelturm rudern mittelbreit': 'Cable Wide Grip Seated Row',\n",
    "    'Kabelturm wide row': 'Cable Wide Grip Seated Row',\n",
    "    'Kabelturm rudern breit': 'Cable Wide Grip Seated Row',\n",
    "\n",
    "    'Kabelturm rudern': 'Cable Seated Row',\n",
    "    'rudern aufrecht': 'Cable Seated Row',\n",
    "    'Ruder kabelturm': 'Cable Seated Row',\n",
    "\n",
    "    'Reverse butterfly': 'Reverse Fly',\n",
    "    'Rev butterfly': 'Reverse Fly',\n",
    "\n",
    "    'hang': 'Hang',\n",
    "\n",
    "    'Rotator cuff': 'Rotator Cuff',\n",
    "\n",
    "    'dumbbell bent over row': 'Dumbbell Bent-Over Row',\n",
    "    'bent over row': 'Dumbbell Bent-Over Row',\n",
    "    'Bent over dumbbell row': 'Dumbbell Bent-Over Row',\n",
    "\n",
    "    'Adduction': 'Lever Seated Hip Adduction',\n",
    "    'Adductor': 'Lever Seated Hip Adduction',\n",
    "    'Adduktor': 'Lever Seated Hip Adduction',\n",
    "\n",
    "    'Bench butterfly': 'Dumbbell Fly',\n",
    "\n",
    "    'Weighted shrug': 'Wheighted Shrug',\n",
    "\n",
    "    'ß Stange': 'Barbell Curl',\n",
    "    'ẞ-Stange curls': 'Barbell Curl',\n",
    "    'ẞ-Stange': 'Barbell Curl',\n",
    "\n",
    "    'Hammer Curls': 'Hammer Curl',\n",
    "    'Hammer curl': 'Hammer Curl',\n",
    "\n",
    "    'bein beuger': 'Leg Curl',\n",
    "    'beuger': 'Leg Curl',\n",
    "\n",
    "    'bein strecker': 'Leg Extension',\n",
    "    'leg extension': 'Leg Extension',\n",
    "    'Strecker': 'Leg Extension',\n",
    "\n",
    "    'abduktor maschine': 'Lever Seated Hip Abduction',\n",
    "\n",
    "    'tbar lat pull': 'Lever Incline Row',\n",
    "\n",
    "    'Ruder maschine': 'Lever Wide Grip Seated Row',\n",
    "    'Rudern maschine': 'Lever Wide Grip Seated Row',\n",
    "    'lat row machine': 'Lever Wide Grip Seated Row',\n",
    "    'Machine row': 'Lever Wide Grip Seated Row',\n",
    "\n",
    "    'front lift': 'Barbell Front Raise',\n",
    "    'Front raise': 'Barbell Front Raise',\n",
    "\n",
    "    'kurzhantel curl': 'Dumbbell Curl',\n",
    "    'Dumbbell curl': 'Dumbbell Curl',\n",
    "    'Curl/hammer curl': 'Dumbbell Curl',\n",
    "    'Dumbbell curls': 'Dumbbell Curl',\n",
    "\n",
    "    'Kabelzug curls': 'Cable Curl',\n",
    "    'Kabelturm curl': 'Cable Curl',\n",
    "    'Kabelturm curls': 'Cable Curl',\n",
    "\n",
    "    'Kabelzug overhead': 'Cable Bent-over Triceps Extension',\n",
    "\n",
    "}\n"
   ]
  },
  {
   "cell_type": "markdown",
   "metadata": {},
   "source": [
    "### Open .txt containing workout data"
   ]
  },
  {
   "cell_type": "code",
   "execution_count": 27,
   "metadata": {},
   "outputs": [],
   "source": [
    "with open('workout.txt', 'r') as file:\n",
    "    data = file.read()\n",
    "\n",
    "workouts = data.split('\\n\\n')\n",
    "\n",
    "for workout in workouts:\n",
    "    if '\\n' not in workout:\n",
    "        workouts.remove(workout)\n"
   ]
  },
  {
   "cell_type": "markdown",
   "metadata": {},
   "source": [
    "### Class definitions"
   ]
  },
  {
   "cell_type": "code",
   "execution_count": 28,
   "metadata": {},
   "outputs": [],
   "source": [
    "class Workout:\n",
    "    def __init__(self, exercises=None, date=None):\n",
    "        self.exercises = exercises\n",
    "        self.date = date\n",
    "\n",
    "class Exercise:\n",
    "    def __init__(\n",
    "            self, \n",
    "            name=None, \n",
    "            sets=None,\n",
    "            notes=None\n",
    "        ):\n",
    "        self.name = name\n",
    "        self.sets = sets\n",
    "        self.notes = notes\n",
    "\n",
    "class Set:\n",
    "    def __init__(\n",
    "            self, \n",
    "            reps=None, \n",
    "            weight=None, \n",
    "            drop_reps=None, \n",
    "            drop_weight=None,\n",
    "            time=None\n",
    "        ):\n",
    "        self.reps = reps\n",
    "        self.weight = weight\n",
    "        self.drop_reps = drop_reps\n",
    "        self.drop_weights = drop_weight\n",
    "        self.time = time"
   ]
  },
  {
   "cell_type": "markdown",
   "metadata": {},
   "source": [
    "### Helper functions"
   ]
  },
  {
   "cell_type": "code",
   "execution_count": 39,
   "metadata": {},
   "outputs": [],
   "source": [
    "import csv\n",
    "\n",
    "def has_digit(string):\n",
    "    for char in string:\n",
    "        if char.isdigit():\n",
    "            return True\n",
    "    return False\n",
    "\n",
    "def get_set(string):\n",
    "    string = string.replace(',', '')\n",
    "    if 's' in string:\n",
    "        return Set(time=string)\n",
    "    set = string.split('x')\n",
    "    if len(set) == 1:\n",
    "        set.append('0')\n",
    "    if '.' not in set[0] and '.' not in set[1]:\n",
    "        return Set(reps=int(set[0]), weight=int(set[1]))\n",
    "    if '.' not in set[0] and '.' in set[1]:\n",
    "        return Set(reps=int(set[0]), weight=float(set[1]))\n",
    "    if '.' in set[0] and '.' not in set[1]:\n",
    "        return Set(reps=float(set[0]), weight=int(set[1]))\n",
    "    if '.' in set[0] and '.' in set[1]:\n",
    "        return Set(reps=float(set[0]), weight=float(set[1]))\n",
    "\n",
    "def get_drop_set(string):\n",
    "    string = string.replace(',', '')\n",
    "    sets = string.split('+')\n",
    "    reps = []\n",
    "    weights = []\n",
    "    for set in sets:\n",
    "        set = set.split('x')\n",
    "        if '.' in set[1]:\n",
    "            reps.append(int(set[0]))\n",
    "            weights.append(float(set[1]))\n",
    "        else: \n",
    "            reps.append(int(set[0]))\n",
    "            weights.append(int(set[1]))\n",
    "    return Set(drop_reps=reps, drop_weight=weights)\n",
    "    \n",
    "def separate_notes(string):\n",
    "    if \" (\" in string:\n",
    "        split = string.split(\" (\")\n",
    "        return [split[0], split[1][:-1]]\n",
    "    else:\n",
    "        return [string, '']\n",
    "    \n",
    "def print_workout(Workout):\n",
    "    date = Workout.date\n",
    "    print('############################')\n",
    "    print('DATE:    ' + date)\n",
    "    for exercise in Workout.exercises:\n",
    "        print('----------------------------')\n",
    "        first = True\n",
    "        set_string = ''\n",
    "        for s in exercise.sets:\n",
    "            if s.reps != None and s.weight != None:\n",
    "                if first:\n",
    "                    set_string += str(s.reps) + 'x' + str(s.weight)\n",
    "                    first = False\n",
    "                else:\n",
    "                    set_string += ', ' + str(s.reps) + 'x' + str(s.weight)\n",
    "        print(exercise.name + ' ' + set_string)\n",
    "    print('############################')\n",
    "\n",
    "def add_row_to_csv(filename, new_row):\n",
    "    with open(filename, 'a', newline='') as file:\n",
    "        writer = csv.writer(file)\n",
    "        writer.writerow(new_row)"
   ]
  },
  {
   "cell_type": "markdown",
   "metadata": {},
   "source": [
    "### Import workout data"
   ]
  },
  {
   "cell_type": "code",
   "execution_count": 30,
   "metadata": {},
   "outputs": [
    {
     "name": "stdout",
     "output_type": "stream",
     "text": [
      "25.03\n"
     ]
    }
   ],
   "source": [
    "import re\n",
    "\n",
    "date_pattern = r'\\d{2}\\.\\d{2}'\n",
    "\n",
    "workout_list_pre = []\n",
    "\n",
    "for workout in workouts:\n",
    "    exercises = workout.split('\\n')\n",
    "    workout_list_pre.append(exercises)\n",
    "\n",
    "workout_list = []\n",
    "\n",
    "for workout in workout_list_pre:\n",
    "    date = None\n",
    "    exercise_list = []\n",
    "    for exercise in workout:\n",
    "        name = ''\n",
    "        sets = []\n",
    "        cleaned, notes = separate_notes(exercise)\n",
    "        if re.search(date_pattern, cleaned) != None:\n",
    "            date = cleaned\n",
    "            continue\n",
    "        for string in cleaned.split(' '):\n",
    "            if not has_digit(string):\n",
    "                name += string + ' '\n",
    "            if has_digit(string):\n",
    "                if '(' in string:\n",
    "                    temp = string.replace('(', '')\n",
    "                    temp = temp.replace(')', '')\n",
    "                    temp = temp.split('x')\n",
    "                    for i in range(int(temp[0])):\n",
    "                        sets.append(Set(reps=temp[1], weight=temp[2]))\n",
    "                    continue\n",
    "                if '+' in string:\n",
    "                    sets.append(get_drop_set(string))\n",
    "                    continue\n",
    "                else:\n",
    "                    sets.append(get_set(string))\n",
    "        exercise_list.append(Exercise(name=name.strip(), sets=sets, notes=notes))\n",
    "    workout_list.append(Workout(exercises=exercise_list, date=date))\n",
    "\n",
    "print(workout_list[0].date)"
   ]
  },
  {
   "cell_type": "markdown",
   "metadata": {},
   "source": [
    "### Check if workout data contains names that are not in the exercise dictionary"
   ]
  },
  {
   "cell_type": "code",
   "execution_count": 31,
   "metadata": {},
   "outputs": [
    {
     "name": "stdout",
     "output_type": "stream",
     "text": [
      "\n"
     ]
    }
   ],
   "source": [
    "key_list = list(Exercise_dict.keys())\n",
    "len(key_list)\n",
    "exercise_name_list = []\n",
    "\n",
    "for workout in workout_list:\n",
    "    for exercise in workout.exercises:\n",
    "        exercise_name_list.append(exercise.name)\n",
    "\n",
    "exercise_name_list_set = list(set(exercise_name_list))\n",
    "\n",
    "missing_exercises = []\n",
    "\n",
    "for workout in workout_list:\n",
    "    for exercise in workout.exercises:\n",
    "        name = exercise.name\n",
    "        found = False\n",
    "        for key in key_list:\n",
    "            if key.lower() == name.lower():\n",
    "                found = True\n",
    "        if not found:\n",
    "            missing_exercises.append(name)\n",
    "\n",
    "missing_exercises_set = list(set(missing_exercises))\n",
    "\n",
    "for ex in missing_exercises_set:\n",
    "    print(ex)"
   ]
  },
  {
   "cell_type": "markdown",
   "metadata": {},
   "source": [
    "### Define conversion from .fods to .xlsx file format"
   ]
  },
  {
   "cell_type": "code",
   "execution_count": 48,
   "metadata": {},
   "outputs": [],
   "source": [
    "import subprocess\n",
    "\n",
    "workout_fods = \"/Users/lucalichterman/Documents/Hobby/Fitness/GymProgressTracker/Gym_tracking.fods\"\n",
    "workout_fods_test = \"/Users/lucalichterman/Documents/Hobby/Fitness/GymProgressTracker/Gym_tracking_test/\"\n",
    "exercises_xlsx = \"/Users/lucalichterman/Documents/Hobby/Fitness/GymProgressTracker/Gym_tracking_exercises_excel/\"\n",
    "data_xlsx = \"/Users/lucalichterman/Documents/Hobby/Fitness/GymProgressTracker/Gym_tracking_data_excel/\"\n",
    "exercises_csv = \"/Users/lucalichterman/Documents/Hobby/Fitness/GymProgressTracker/Gym_tracking_exercises.csv\"\n",
    "data_csv = \"/Users/lucalichterman/Documents/Hobby/Fitness/GymProgressTracker/Gym_tracking_data.csv\"\n",
    "\n",
    "def convert_to_xlsx(input, output):\n",
    "    subprocess.run([\n",
    "        '/Applications/LibreOffice.app/Contents/MacOS//soffice',\n",
    "        '--headless',\n",
    "        '--convert-to',\n",
    "        'xlsx',\n",
    "        '--outdir',\n",
    "        output,\n",
    "        input\n",
    "    ])\n",
    "\n",
    "def convert_to_ods(input, output):\n",
    "    print('converting...')\n",
    "    subprocess.run([\n",
    "        '/Applications/LibreOffice.app/Contents/MacOS//soffice',\n",
    "        '--headless',\n",
    "        '--convert-to',\n",
    "        'fods',\n",
    "        '--outdir',\n",
    "        output,\n",
    "        input\n",
    "    ])\n",
    "    print('done')"
   ]
  },
  {
   "cell_type": "markdown",
   "metadata": {},
   "source": [
    "### Convert .fods to xlsx and then to csv\n",
    "(csv conversion might be unnecessary)"
   ]
  },
  {
   "cell_type": "code",
   "execution_count": 33,
   "metadata": {},
   "outputs": [
    {
     "name": "stdout",
     "output_type": "stream",
     "text": [
      "['Exercise', 'Target', 'Synergists', 'Stabilizers', 'Antagonist Stabilizers', 'Dynamic Stabilizers']\n"
     ]
    },
    {
     "name": "stderr",
     "output_type": "stream",
     "text": [
      "2024-06-24 17:20:37.770 soffice[5466:87122] WARNING: Secure coding is not enabled for restorable state! Enable secure coding by implementing NSApplicationDelegate.applicationSupportsSecureRestorableState: and returning YES.\n"
     ]
    }
   ],
   "source": [
    "import pandas as pd\n",
    "\n",
    "convert_to_xlsx(workout_fods, exercises_xlsx)\n",
    "\n",
    "df = pd.read_excel(exercises_xlsx + 'Gym_tracking.xlsx', sheet_name=1)\n",
    "\n",
    "print(df.columns.to_list())\n",
    "\n",
    "# df.to_csv(exercises_csv, index=False)"
   ]
  },
  {
   "cell_type": "markdown",
   "metadata": {},
   "source": [
    "### Compare external exercise database with the exercise dictionary and get the difference"
   ]
  },
  {
   "cell_type": "code",
   "execution_count": 34,
   "metadata": {},
   "outputs": [
    {
     "name": "stdout",
     "output_type": "stream",
     "text": [
      "['Exercise', 'Target', 'Synergists', 'Stabilizers', 'Antagonist Stabilizers', 'Dynamic Stabilizers']\n",
      "Wheighted Shrug\n",
      "Hang\n",
      "Rotator Cuff\n"
     ]
    }
   ],
   "source": [
    "import pandas as pd\n",
    "\n",
    "df = pd.read_csv(exercises_csv)\n",
    "\n",
    "print(df.columns.tolist())\n",
    "\n",
    "exercise_names = df['Exercise']\n",
    "\n",
    "official_names = list(set(Exercise_dict.values()))\n",
    "\n",
    "missing_exercises = set(official_names) - set(exercise_names)\n",
    "\n",
    "for exercise in missing_exercises:\n",
    "    print(exercise)\n"
   ]
  },
  {
   "cell_type": "markdown",
   "metadata": {},
   "source": [
    "### Get the first sheet of the main spreadsheet 'Gym_tracking.fods'\n",
    "And get the column names and write a workout into the file\n"
   ]
  },
  {
   "cell_type": "code",
   "execution_count": 49,
   "metadata": {},
   "outputs": [
    {
     "name": "stderr",
     "output_type": "stream",
     "text": [
      "2024-06-24 17:51:45.943 soffice[7050:117349] WARNING: Secure coding is not enabled for restorable state! Enable secure coding by implementing NSApplicationDelegate.applicationSupportsSecureRestorableState: and returning YES.\n"
     ]
    },
    {
     "name": "stdout",
     "output_type": "stream",
     "text": [
      "converting...\n",
      "done\n"
     ]
    },
    {
     "name": "stderr",
     "output_type": "stream",
     "text": [
      "2024-06-24 17:51:47.716 soffice[7057:117585] WARNING: Secure coding is not enabled for restorable state! Enable secure coding by implementing NSApplicationDelegate.applicationSupportsSecureRestorableState: and returning YES.\n"
     ]
    }
   ],
   "source": [
    "import pandas as pd\n",
    "import csv\n",
    "from datetime import datetime\n",
    "\n",
    "convert_to_xlsx(workout_fods, data_xlsx)\n",
    "df = pd.read_excel(data_xlsx + 'Gym_tracking.xlsx', sheet_name=0)\n",
    "df.to_csv(data_csv, index=False)\n",
    "\n",
    "# df = pd.read_csv(data_csv)\n",
    "\n",
    "# new_row = {'Column1': 'Value1', 'Column2': 'Value2', 'Column3': 'Value3'}\n",
    "# df = df.concat([df, new_row], ignore_index=True)\n",
    "\n",
    "# df.to_excel(data_xlsx, index=False)\n",
    "\n",
    "new_row = ['data1', 'data2', 'data3']\n",
    "\n",
    "add_row_to_csv(data_csv, new_row)\n",
    "\n",
    "df.to_excel(data_xlsx+'Gym_tracking.xlsx', index=False)\n",
    "\n",
    "convert_to_ods(data_xlsx+'Gym_tracking.xlsx', workout_fods_test)\n",
    "\n",
    "\n"
   ]
  },
  {
   "cell_type": "markdown",
   "metadata": {},
   "source": [
    "# Web Crawler"
   ]
  },
  {
   "cell_type": "markdown",
   "metadata": {},
   "source": [
    "### Get list of all exercises\n",
    "Iterate over all done exercises and create a list of exercise names"
   ]
  },
  {
   "cell_type": "code",
   "execution_count": null,
   "metadata": {},
   "outputs": [],
   "source": []
  },
  {
   "cell_type": "code",
   "execution_count": 10,
   "metadata": {},
   "outputs": [
    {
     "ename": "NoSuchWindowException",
     "evalue": "Message: Browsing context has been discarded\nStacktrace:\nRemoteError@chrome://remote/content/shared/RemoteError.sys.mjs:8:8\nWebDriverError@chrome://remote/content/shared/webdriver/Errors.sys.mjs:193:5\nNoSuchWindowError@chrome://remote/content/shared/webdriver/Errors.sys.mjs:679:5\nassert.that/<@chrome://remote/content/shared/webdriver/Assert.sys.mjs:515:13\nassert.open@chrome://remote/content/shared/webdriver/Assert.sys.mjs:147:4\nGeckoDriver.prototype.getPageSource@chrome://remote/content/marionette/driver.sys.mjs:929:15\ndespatch@chrome://remote/content/marionette/server.sys.mjs:318:40\nexecute@chrome://remote/content/marionette/server.sys.mjs:289:16\nonPacket/<@chrome://remote/content/marionette/server.sys.mjs:262:20\nonPacket@chrome://remote/content/marionette/server.sys.mjs:263:9\n_onJSONObjectReady/<@chrome://remote/content/marionette/transport.sys.mjs:494:20\n",
     "output_type": "error",
     "traceback": [
      "\u001b[0;31m---------------------------------------------------------------------------\u001b[0m",
      "\u001b[0;31mNoSuchWindowException\u001b[0m                     Traceback (most recent call last)",
      "Cell \u001b[0;32mIn[10], line 11\u001b[0m\n\u001b[1;32m      7\u001b[0m driver \u001b[38;5;241m=\u001b[39m webdriver\u001b[38;5;241m.\u001b[39mFirefox()\n\u001b[1;32m      9\u001b[0m driver\u001b[38;5;241m.\u001b[39mget(url)\n\u001b[0;32m---> 11\u001b[0m html \u001b[38;5;241m=\u001b[39m \u001b[43mdriver\u001b[49m\u001b[38;5;241;43m.\u001b[39;49m\u001b[43mpage_source\u001b[49m\n\u001b[1;32m     13\u001b[0m soup \u001b[38;5;241m=\u001b[39m BeautifulSoup(html, \u001b[38;5;124m'\u001b[39m\u001b[38;5;124mhtml.parser\u001b[39m\u001b[38;5;124m'\u001b[39m)\n\u001b[1;32m     15\u001b[0m \u001b[38;5;66;03m# print(soup.prettify())\u001b[39;00m\n",
      "File \u001b[0;32m~/Documents/Hobby/Coding/Python/Training-data-extraction/lib/python3.12/site-packages/selenium/webdriver/remote/webdriver.py:448\u001b[0m, in \u001b[0;36mWebDriver.page_source\u001b[0;34m(self)\u001b[0m\n\u001b[1;32m    439\u001b[0m \u001b[38;5;129m@property\u001b[39m\n\u001b[1;32m    440\u001b[0m \u001b[38;5;28;01mdef\u001b[39;00m \u001b[38;5;21mpage_source\u001b[39m(\u001b[38;5;28mself\u001b[39m) \u001b[38;5;241m-\u001b[39m\u001b[38;5;241m>\u001b[39m \u001b[38;5;28mstr\u001b[39m:\n\u001b[1;32m    441\u001b[0m \u001b[38;5;250m    \u001b[39m\u001b[38;5;124;03m\"\"\"Gets the source of the current page.\u001b[39;00m\n\u001b[1;32m    442\u001b[0m \n\u001b[1;32m    443\u001b[0m \u001b[38;5;124;03m    :Usage:\u001b[39;00m\n\u001b[0;32m   (...)\u001b[0m\n\u001b[1;32m    446\u001b[0m \u001b[38;5;124;03m            driver.page_source\u001b[39;00m\n\u001b[1;32m    447\u001b[0m \u001b[38;5;124;03m    \"\"\"\u001b[39;00m\n\u001b[0;32m--> 448\u001b[0m     \u001b[38;5;28;01mreturn\u001b[39;00m \u001b[38;5;28;43mself\u001b[39;49m\u001b[38;5;241;43m.\u001b[39;49m\u001b[43mexecute\u001b[49m\u001b[43m(\u001b[49m\u001b[43mCommand\u001b[49m\u001b[38;5;241;43m.\u001b[39;49m\u001b[43mGET_PAGE_SOURCE\u001b[49m\u001b[43m)\u001b[49m[\u001b[38;5;124m\"\u001b[39m\u001b[38;5;124mvalue\u001b[39m\u001b[38;5;124m\"\u001b[39m]\n",
      "File \u001b[0;32m~/Documents/Hobby/Coding/Python/Training-data-extraction/lib/python3.12/site-packages/selenium/webdriver/remote/webdriver.py:347\u001b[0m, in \u001b[0;36mWebDriver.execute\u001b[0;34m(self, driver_command, params)\u001b[0m\n\u001b[1;32m    345\u001b[0m response \u001b[38;5;241m=\u001b[39m \u001b[38;5;28mself\u001b[39m\u001b[38;5;241m.\u001b[39mcommand_executor\u001b[38;5;241m.\u001b[39mexecute(driver_command, params)\n\u001b[1;32m    346\u001b[0m \u001b[38;5;28;01mif\u001b[39;00m response:\n\u001b[0;32m--> 347\u001b[0m     \u001b[38;5;28;43mself\u001b[39;49m\u001b[38;5;241;43m.\u001b[39;49m\u001b[43merror_handler\u001b[49m\u001b[38;5;241;43m.\u001b[39;49m\u001b[43mcheck_response\u001b[49m\u001b[43m(\u001b[49m\u001b[43mresponse\u001b[49m\u001b[43m)\u001b[49m\n\u001b[1;32m    348\u001b[0m     response[\u001b[38;5;124m\"\u001b[39m\u001b[38;5;124mvalue\u001b[39m\u001b[38;5;124m\"\u001b[39m] \u001b[38;5;241m=\u001b[39m \u001b[38;5;28mself\u001b[39m\u001b[38;5;241m.\u001b[39m_unwrap_value(response\u001b[38;5;241m.\u001b[39mget(\u001b[38;5;124m\"\u001b[39m\u001b[38;5;124mvalue\u001b[39m\u001b[38;5;124m\"\u001b[39m, \u001b[38;5;28;01mNone\u001b[39;00m))\n\u001b[1;32m    349\u001b[0m     \u001b[38;5;28;01mreturn\u001b[39;00m response\n",
      "File \u001b[0;32m~/Documents/Hobby/Coding/Python/Training-data-extraction/lib/python3.12/site-packages/selenium/webdriver/remote/errorhandler.py:229\u001b[0m, in \u001b[0;36mErrorHandler.check_response\u001b[0;34m(self, response)\u001b[0m\n\u001b[1;32m    227\u001b[0m         alert_text \u001b[38;5;241m=\u001b[39m value[\u001b[38;5;124m\"\u001b[39m\u001b[38;5;124malert\u001b[39m\u001b[38;5;124m\"\u001b[39m]\u001b[38;5;241m.\u001b[39mget(\u001b[38;5;124m\"\u001b[39m\u001b[38;5;124mtext\u001b[39m\u001b[38;5;124m\"\u001b[39m)\n\u001b[1;32m    228\u001b[0m     \u001b[38;5;28;01mraise\u001b[39;00m exception_class(message, screen, stacktrace, alert_text)  \u001b[38;5;66;03m# type: ignore[call-arg]  # mypy is not smart enough here\u001b[39;00m\n\u001b[0;32m--> 229\u001b[0m \u001b[38;5;28;01mraise\u001b[39;00m exception_class(message, screen, stacktrace)\n",
      "\u001b[0;31mNoSuchWindowException\u001b[0m: Message: Browsing context has been discarded\nStacktrace:\nRemoteError@chrome://remote/content/shared/RemoteError.sys.mjs:8:8\nWebDriverError@chrome://remote/content/shared/webdriver/Errors.sys.mjs:193:5\nNoSuchWindowError@chrome://remote/content/shared/webdriver/Errors.sys.mjs:679:5\nassert.that/<@chrome://remote/content/shared/webdriver/Assert.sys.mjs:515:13\nassert.open@chrome://remote/content/shared/webdriver/Assert.sys.mjs:147:4\nGeckoDriver.prototype.getPageSource@chrome://remote/content/marionette/driver.sys.mjs:929:15\ndespatch@chrome://remote/content/marionette/server.sys.mjs:318:40\nexecute@chrome://remote/content/marionette/server.sys.mjs:289:16\nonPacket/<@chrome://remote/content/marionette/server.sys.mjs:262:20\nonPacket@chrome://remote/content/marionette/server.sys.mjs:263:9\n_onJSONObjectReady/<@chrome://remote/content/marionette/transport.sys.mjs:494:20\n"
     ]
    }
   ],
   "source": [
    "from bs4 import BeautifulSoup\n",
    "from selenium import webdriver\n",
    "import requests\n",
    "\n",
    "url = \"https://exrx.net/Lists/Directory\"\n",
    "\n",
    "driver = webdriver.Firefox()\n",
    "\n",
    "driver.get(url)\n",
    "\n",
    "html = driver.page_source\n",
    "\n",
    "soup = BeautifulSoup(html, 'html.parser')\n",
    "\n",
    "# print(soup.prettify())\n",
    "\n",
    "links = soup.find_all('a')\n",
    "\n",
    "for link in links:\n",
    "    print(link.get('href'))\n",
    "    "
   ]
  },
  {
   "cell_type": "code",
   "execution_count": null,
   "metadata": {},
   "outputs": [],
   "source": []
  }
 ],
 "metadata": {
  "kernelspec": {
   "display_name": "Training-data-extraction",
   "language": "python",
   "name": "python3"
  },
  "language_info": {
   "codemirror_mode": {
    "name": "ipython",
    "version": 3
   },
   "file_extension": ".py",
   "mimetype": "text/x-python",
   "name": "python",
   "nbconvert_exporter": "python",
   "pygments_lexer": "ipython3",
   "version": "3.12.3"
  }
 },
 "nbformat": 4,
 "nbformat_minor": 2
}
